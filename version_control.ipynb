{
 "cells": [
  {
   "cell_type": "markdown",
   "metadata": {},
   "source": [
    "## Setup\n",
    "You need to run this only once to link our configuration to your local repository! No need to run it every time"
   ]
  },
  {
   "cell_type": "code",
   "execution_count": 1,
   "metadata": {},
   "outputs": [],
   "source": [
    "!git config --local include.path ../.gitconfig"
   ]
  },
  {
   "cell_type": "markdown",
   "metadata": {},
   "source": [
    "## Syncing\n",
    "Run this every time you want to sync with the latest exercise. \n",
    "With the current configuration, it should not touch the locally changed files, only add the new ones and update never-changed files."
   ]
  },
  {
   "cell_type": "code",
   "execution_count": 3,
   "metadata": {},
   "outputs": [
    {
     "name": "stdout",
     "output_type": "stream",
     "text": [
      "[master 0fd5270] Sync\n",
      " 2 files changed, 324 insertions(+), 142 deletions(-)\n",
      " rewrite Exercises/W3/W3_exercise.ipynb (99%)\n",
      "Already up-to-date.\n"
     ]
    }
   ],
   "source": [
    "!git commit -a -m 'Sync'\n",
    "!git pull --no-edit"
   ]
  },
  {
   "cell_type": "markdown",
   "metadata": {},
   "source": [
    "## Contact\n",
    "\n",
    "For any problem with syncing either ask the TA in class or email lcavalli@ethz.ch"
   ]
  }
 ],
 "metadata": {
  "kernelspec": {
   "display_name": "Python 2",
   "language": "python",
   "name": "python2"
  },
  "language_info": {
   "codemirror_mode": {
    "name": "ipython",
    "version": 2
   },
   "file_extension": ".py",
   "mimetype": "text/x-python",
   "name": "python",
   "nbconvert_exporter": "python",
   "pygments_lexer": "ipython2",
   "version": "2.7.12"
  }
 },
 "nbformat": 4,
 "nbformat_minor": 4
}
